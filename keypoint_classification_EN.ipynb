{
  "cells": [
    {
      "cell_type": "code",
      "execution_count": 18,
      "metadata": {
        "id": "igMyGnjE9hEp"
      },
      "outputs": [],
      "source": [
        "import csv\n",
        "\n",
        "import numpy as np\n",
        "import tensorflow as tf\n",
        "from sklearn.model_selection import train_test_split\n",
        "\n",
        "RANDOM_SEED = 42"
      ]
    },
    {
      "cell_type": "markdown",
      "metadata": {
        "id": "t2HDvhIu9hEr"
      },
      "source": [
        "# Specify each path"
      ]
    },
    {
      "cell_type": "code",
      "execution_count": 19,
      "metadata": {
        "id": "9NvZP2Zn9hEy"
      },
      "outputs": [],
      "source": [
        "dataset = 'model/keypoint_classifier/keypoint.csv'\n",
        "model_save_path = 'model/keypoint_classifier/keypoint_classifier.hdf5'\n",
        "tflite_save_path = 'model/keypoint_classifier/keypoint_classifier.tflite'"
      ]
    },
    {
      "cell_type": "markdown",
      "metadata": {
        "id": "s5oMH7x19hEz"
      },
      "source": [
        "# Set number of classes"
      ]
    },
    {
      "cell_type": "code",
      "execution_count": 20,
      "metadata": {
        "id": "du4kodXL9hEz"
      },
      "outputs": [],
      "source": [
        "NUM_CLASSES = 6"
      ]
    },
    {
      "cell_type": "markdown",
      "metadata": {
        "id": "XjnL0uso9hEz"
      },
      "source": [
        "# Dataset reading"
      ]
    },
    {
      "cell_type": "code",
      "execution_count": 21,
      "metadata": {
        "id": "QT5ZqtEz9hE0"
      },
      "outputs": [],
      "source": [
        "X_dataset = np.loadtxt(dataset, delimiter=',', dtype='float32', usecols=list(range(1, (21 * 2) + 1)))"
      ]
    },
    {
      "cell_type": "code",
      "execution_count": 22,
      "metadata": {
        "id": "QmoKFsp49hE0"
      },
      "outputs": [],
      "source": [
        "y_dataset = np.loadtxt(dataset, delimiter=',', dtype='int32', usecols=(0))"
      ]
    },
    {
      "cell_type": "code",
      "execution_count": 23,
      "metadata": {
        "id": "xQU7JTZ_9hE0"
      },
      "outputs": [],
      "source": [
        "X_train, X_test, y_train, y_test = train_test_split(X_dataset, y_dataset, train_size=0.75, random_state=RANDOM_SEED)"
      ]
    },
    {
      "cell_type": "markdown",
      "metadata": {
        "id": "mxK_lETT9hE0"
      },
      "source": [
        "# Model building"
      ]
    },
    {
      "cell_type": "code",
      "execution_count": 24,
      "metadata": {
        "id": "vHBmUf1t9hE1"
      },
      "outputs": [],
      "source": [
        "model = tf.keras.models.Sequential([\n",
        "    tf.keras.layers.Input((21 * 2, )),\n",
        "    tf.keras.layers.Dropout(0.2),\n",
        "    tf.keras.layers.Dense(20, activation='relu'),\n",
        "    tf.keras.layers.Dropout(0.4),\n",
        "    tf.keras.layers.Dense(10, activation='relu'),\n",
        "    tf.keras.layers.Dense(NUM_CLASSES, activation='softmax')\n",
        "])"
      ]
    },
    {
      "cell_type": "code",
      "execution_count": 25,
      "metadata": {
        "colab": {
          "base_uri": "https://localhost:8080/"
        },
        "id": "ypqky9tc9hE1",
        "outputId": "5db082bb-30e3-4110-bf63-a1ee777ecd46"
      },
      "outputs": [
        {
          "name": "stdout",
          "output_type": "stream",
          "text": [
            "Model: \"sequential_1\"\n",
            "_________________________________________________________________\n",
            " Layer (type)                Output Shape              Param #   \n",
            "=================================================================\n",
            " dropout_2 (Dropout)         (None, 42)                0         \n",
            "                                                                 \n",
            " dense_3 (Dense)             (None, 20)                860       \n",
            "                                                                 \n",
            " dropout_3 (Dropout)         (None, 20)                0         \n",
            "                                                                 \n",
            " dense_4 (Dense)             (None, 10)                210       \n",
            "                                                                 \n",
            " dense_5 (Dense)             (None, 6)                 66        \n",
            "                                                                 \n",
            "=================================================================\n",
            "Total params: 1136 (4.44 KB)\n",
            "Trainable params: 1136 (4.44 KB)\n",
            "Non-trainable params: 0 (0.00 Byte)\n",
            "_________________________________________________________________\n"
          ]
        }
      ],
      "source": [
        "model.summary()  # tf.keras.utils.plot_model(model, show_shapes=True)"
      ]
    },
    {
      "cell_type": "code",
      "execution_count": 26,
      "metadata": {
        "id": "MbMjOflQ9hE1"
      },
      "outputs": [],
      "source": [
        "# Model checkpoint callback\n",
        "cp_callback = tf.keras.callbacks.ModelCheckpoint(\n",
        "    model_save_path, verbose=1, save_weights_only=False)\n",
        "# Callback for early stopping\n",
        "es_callback = tf.keras.callbacks.EarlyStopping(patience=20, verbose=1)"
      ]
    },
    {
      "cell_type": "code",
      "execution_count": 27,
      "metadata": {
        "id": "c3Dac0M_9hE2"
      },
      "outputs": [],
      "source": [
        "# Model compilation\n",
        "model.compile(\n",
        "    optimizer='adam',\n",
        "    loss='sparse_categorical_crossentropy',\n",
        "    metrics=['accuracy']\n",
        ")"
      ]
    },
    {
      "cell_type": "markdown",
      "metadata": {
        "id": "7XI0j1Iu9hE2"
      },
      "source": [
        "# Model training"
      ]
    },
    {
      "cell_type": "code",
      "execution_count": 28,
      "metadata": {
        "colab": {
          "base_uri": "https://localhost:8080/"
        },
        "id": "WirBl-JE9hE3",
        "outputId": "71b30ca2-8294-4d9d-8aa2-800d90d399de",
        "scrolled": true
      },
      "outputs": [
        {
          "name": "stdout",
          "output_type": "stream",
          "text": [
            "Epoch 1/1000\n",
            " 1/33 [..............................] - ETA: 16s - loss: 1.8360 - accuracy: 0.2266\n",
            "Epoch 1: saving model to model/keypoint_classifier\\keypoint_classifier.hdf5\n",
            "33/33 [==============================] - 1s 7ms/step - loss: 1.7611 - accuracy: 0.2421 - val_loss: 1.6708 - val_accuracy: 0.3024\n",
            "Epoch 2/1000\n",
            " 1/33 [..............................] - ETA: 0s - loss: 1.7098 - accuracy: 0.2344\n",
            "Epoch 2: saving model to model/keypoint_classifier\\keypoint_classifier.hdf5\n",
            "33/33 [==============================] - 0s 3ms/step - loss: 1.6348 - accuracy: 0.3122 - val_loss: 1.5614 - val_accuracy: 0.3867\n",
            "Epoch 3/1000\n",
            " 1/33 [..............................] - ETA: 0s - loss: 1.6113 - accuracy: 0.3828\n",
            "Epoch 3: saving model to model/keypoint_classifier\\keypoint_classifier.hdf5\n",
            "33/33 [==============================] - 0s 3ms/step - loss: 1.5673 - accuracy: 0.3394 - val_loss: 1.4719 - val_accuracy: 0.4110\n",
            "Epoch 4/1000\n",
            " 1/33 [..............................] - ETA: 0s - loss: 1.5329 - accuracy: 0.4141\n",
            "Epoch 4: saving model to model/keypoint_classifier\\keypoint_classifier.hdf5\n",
            "33/33 [==============================] - 0s 3ms/step - loss: 1.5011 - accuracy: 0.3661 - val_loss: 1.3841 - val_accuracy: 0.4603\n",
            "Epoch 5/1000\n",
            " 1/33 [..............................] - ETA: 0s - loss: 1.4650 - accuracy: 0.3906\n",
            "Epoch 5: saving model to model/keypoint_classifier\\keypoint_classifier.hdf5\n",
            "33/33 [==============================] - 0s 3ms/step - loss: 1.4371 - accuracy: 0.3963 - val_loss: 1.3079 - val_accuracy: 0.4782\n",
            "Epoch 6/1000\n",
            " 1/33 [..............................] - ETA: 0s - loss: 1.3958 - accuracy: 0.4375\n",
            "Epoch 6: saving model to model/keypoint_classifier\\keypoint_classifier.hdf5\n",
            "33/33 [==============================] - 0s 3ms/step - loss: 1.3861 - accuracy: 0.4175 - val_loss: 1.2291 - val_accuracy: 0.5525\n",
            "Epoch 7/1000\n",
            " 1/33 [..............................] - ETA: 0s - loss: 1.3768 - accuracy: 0.4297\n",
            "Epoch 7: saving model to model/keypoint_classifier\\keypoint_classifier.hdf5\n",
            "33/33 [==============================] - 0s 3ms/step - loss: 1.3301 - accuracy: 0.4314 - val_loss: 1.1398 - val_accuracy: 0.5961\n",
            "Epoch 8/1000\n",
            " 1/33 [..............................] - ETA: 0s - loss: 1.2698 - accuracy: 0.5000\n",
            "Epoch 8: saving model to model/keypoint_classifier\\keypoint_classifier.hdf5\n",
            "33/33 [==============================] - 0s 3ms/step - loss: 1.2694 - accuracy: 0.4678 - val_loss: 1.0636 - val_accuracy: 0.6226\n",
            "Epoch 9/1000\n",
            " 1/33 [..............................] - ETA: 0s - loss: 1.3099 - accuracy: 0.4531\n",
            "Epoch 9: saving model to model/keypoint_classifier\\keypoint_classifier.hdf5\n",
            "33/33 [==============================] - 0s 3ms/step - loss: 1.2333 - accuracy: 0.4800 - val_loss: 0.9987 - val_accuracy: 0.6497\n",
            "Epoch 10/1000\n",
            " 1/33 [..............................] - ETA: 0s - loss: 1.1848 - accuracy: 0.4531\n",
            "Epoch 10: saving model to model/keypoint_classifier\\keypoint_classifier.hdf5\n",
            "33/33 [==============================] - 0s 3ms/step - loss: 1.1871 - accuracy: 0.5026 - val_loss: 0.9350 - val_accuracy: 0.7370\n",
            "Epoch 11/1000\n",
            " 1/33 [..............................] - ETA: 0s - loss: 1.0394 - accuracy: 0.5938\n",
            "Epoch 11: saving model to model/keypoint_classifier\\keypoint_classifier.hdf5\n",
            "33/33 [==============================] - 0s 3ms/step - loss: 1.1342 - accuracy: 0.5334 - val_loss: 0.8759 - val_accuracy: 0.7691\n",
            "Epoch 12/1000\n",
            " 1/33 [..............................] - ETA: 0s - loss: 1.1187 - accuracy: 0.5234\n",
            "Epoch 12: saving model to model/keypoint_classifier\\keypoint_classifier.hdf5\n",
            "33/33 [==============================] - 0s 3ms/step - loss: 1.1118 - accuracy: 0.5410 - val_loss: 0.8286 - val_accuracy: 0.7920\n",
            "Epoch 13/1000\n",
            " 1/33 [..............................] - ETA: 0s - loss: 0.9732 - accuracy: 0.6406\n",
            "Epoch 13: saving model to model/keypoint_classifier\\keypoint_classifier.hdf5\n",
            "33/33 [==============================] - 0s 3ms/step - loss: 1.0726 - accuracy: 0.5696 - val_loss: 0.7843 - val_accuracy: 0.7891\n",
            "Epoch 14/1000\n",
            " 1/33 [..............................] - ETA: 0s - loss: 1.0135 - accuracy: 0.6328\n",
            "Epoch 14: saving model to model/keypoint_classifier\\keypoint_classifier.hdf5\n",
            "33/33 [==============================] - 0s 3ms/step - loss: 1.0310 - accuracy: 0.5777 - val_loss: 0.7445 - val_accuracy: 0.7999\n",
            "Epoch 15/1000\n",
            " 1/33 [..............................] - ETA: 0s - loss: 1.0827 - accuracy: 0.5859\n",
            "Epoch 15: saving model to model/keypoint_classifier\\keypoint_classifier.hdf5\n",
            "33/33 [==============================] - 0s 3ms/step - loss: 1.0174 - accuracy: 0.5903 - val_loss: 0.7069 - val_accuracy: 0.8084\n",
            "Epoch 16/1000\n",
            " 1/33 [..............................] - ETA: 0s - loss: 1.0086 - accuracy: 0.5391\n",
            "Epoch 16: saving model to model/keypoint_classifier\\keypoint_classifier.hdf5\n",
            "33/33 [==============================] - 0s 3ms/step - loss: 1.0070 - accuracy: 0.5858 - val_loss: 0.6877 - val_accuracy: 0.8270\n",
            "Epoch 17/1000\n",
            " 1/33 [..............................] - ETA: 0s - loss: 0.9424 - accuracy: 0.6250\n",
            "Epoch 17: saving model to model/keypoint_classifier\\keypoint_classifier.hdf5\n",
            "33/33 [==============================] - 0s 3ms/step - loss: 0.9869 - accuracy: 0.5980 - val_loss: 0.6559 - val_accuracy: 0.8342\n",
            "Epoch 18/1000\n",
            " 1/33 [..............................] - ETA: 0s - loss: 0.8780 - accuracy: 0.6484\n",
            "Epoch 18: saving model to model/keypoint_classifier\\keypoint_classifier.hdf5\n",
            "33/33 [==============================] - 0s 3ms/step - loss: 0.9701 - accuracy: 0.6068 - val_loss: 0.6435 - val_accuracy: 0.8442\n",
            "Epoch 19/1000\n",
            " 1/33 [..............................] - ETA: 0s - loss: 0.9647 - accuracy: 0.5859\n",
            "Epoch 19: saving model to model/keypoint_classifier\\keypoint_classifier.hdf5\n",
            "33/33 [==============================] - 0s 3ms/step - loss: 0.9405 - accuracy: 0.6113 - val_loss: 0.6190 - val_accuracy: 0.8420\n",
            "Epoch 20/1000\n",
            " 1/33 [..............................] - ETA: 0s - loss: 0.9253 - accuracy: 0.6250\n",
            "Epoch 20: saving model to model/keypoint_classifier\\keypoint_classifier.hdf5\n",
            "33/33 [==============================] - 0s 3ms/step - loss: 0.9485 - accuracy: 0.6080 - val_loss: 0.6093 - val_accuracy: 0.8442\n",
            "Epoch 21/1000\n",
            " 1/33 [..............................] - ETA: 0s - loss: 0.9552 - accuracy: 0.6250\n",
            "Epoch 21: saving model to model/keypoint_classifier\\keypoint_classifier.hdf5\n",
            "33/33 [==============================] - 0s 3ms/step - loss: 0.9232 - accuracy: 0.6239 - val_loss: 0.5963 - val_accuracy: 0.8449\n",
            "Epoch 22/1000\n",
            " 1/33 [..............................] - ETA: 0s - loss: 0.8989 - accuracy: 0.6484\n",
            "Epoch 22: saving model to model/keypoint_classifier\\keypoint_classifier.hdf5\n",
            "33/33 [==============================] - 0s 3ms/step - loss: 0.9006 - accuracy: 0.6285 - val_loss: 0.5716 - val_accuracy: 0.8520\n",
            "Epoch 23/1000\n",
            " 1/33 [..............................] - ETA: 0s - loss: 0.9386 - accuracy: 0.6406\n",
            "Epoch 23: saving model to model/keypoint_classifier\\keypoint_classifier.hdf5\n",
            "33/33 [==============================] - 0s 3ms/step - loss: 0.9062 - accuracy: 0.6273 - val_loss: 0.5617 - val_accuracy: 0.8599\n",
            "Epoch 24/1000\n",
            " 1/33 [..............................] - ETA: 0s - loss: 0.8318 - accuracy: 0.6953\n",
            "Epoch 24: saving model to model/keypoint_classifier\\keypoint_classifier.hdf5\n",
            "33/33 [==============================] - 0s 3ms/step - loss: 0.8746 - accuracy: 0.6420 - val_loss: 0.5432 - val_accuracy: 0.8620\n",
            "Epoch 25/1000\n",
            " 1/33 [..............................] - ETA: 0s - loss: 0.8886 - accuracy: 0.5547\n",
            "Epoch 25: saving model to model/keypoint_classifier\\keypoint_classifier.hdf5\n",
            "33/33 [==============================] - 0s 3ms/step - loss: 0.8920 - accuracy: 0.6380 - val_loss: 0.5383 - val_accuracy: 0.8670\n",
            "Epoch 26/1000\n",
            " 1/33 [..............................] - ETA: 0s - loss: 0.8482 - accuracy: 0.6719\n",
            "Epoch 26: saving model to model/keypoint_classifier\\keypoint_classifier.hdf5\n",
            "33/33 [==============================] - 0s 3ms/step - loss: 0.8854 - accuracy: 0.6385 - val_loss: 0.5317 - val_accuracy: 0.8642\n",
            "Epoch 27/1000\n",
            " 1/33 [..............................] - ETA: 0s - loss: 0.8477 - accuracy: 0.6797\n",
            "Epoch 27: saving model to model/keypoint_classifier\\keypoint_classifier.hdf5\n",
            "33/33 [==============================] - 0s 3ms/step - loss: 0.8770 - accuracy: 0.6344 - val_loss: 0.5204 - val_accuracy: 0.8728\n",
            "Epoch 28/1000\n",
            " 1/33 [..............................] - ETA: 0s - loss: 0.9239 - accuracy: 0.6641\n",
            "Epoch 28: saving model to model/keypoint_classifier\\keypoint_classifier.hdf5\n",
            "33/33 [==============================] - 0s 3ms/step - loss: 0.8613 - accuracy: 0.6551 - val_loss: 0.5177 - val_accuracy: 0.8763\n",
            "Epoch 29/1000\n",
            " 1/33 [..............................] - ETA: 0s - loss: 0.8183 - accuracy: 0.6641\n",
            "Epoch 29: saving model to model/keypoint_classifier\\keypoint_classifier.hdf5\n",
            "33/33 [==============================] - 0s 3ms/step - loss: 0.8496 - accuracy: 0.6549 - val_loss: 0.4995 - val_accuracy: 0.8921\n",
            "Epoch 30/1000\n",
            " 1/33 [..............................] - ETA: 0s - loss: 0.7286 - accuracy: 0.7109\n",
            "Epoch 30: saving model to model/keypoint_classifier\\keypoint_classifier.hdf5\n",
            "33/33 [==============================] - 0s 3ms/step - loss: 0.8255 - accuracy: 0.6671 - val_loss: 0.4840 - val_accuracy: 0.8985\n",
            "Epoch 31/1000\n",
            " 1/33 [..............................] - ETA: 0s - loss: 0.8101 - accuracy: 0.6406\n",
            "Epoch 31: saving model to model/keypoint_classifier\\keypoint_classifier.hdf5\n",
            "33/33 [==============================] - 0s 3ms/step - loss: 0.8168 - accuracy: 0.6709 - val_loss: 0.4757 - val_accuracy: 0.9142\n",
            "Epoch 32/1000\n",
            " 1/33 [..............................] - ETA: 0s - loss: 0.8685 - accuracy: 0.6641\n",
            "Epoch 32: saving model to model/keypoint_classifier\\keypoint_classifier.hdf5\n",
            "33/33 [==============================] - 0s 3ms/step - loss: 0.8358 - accuracy: 0.6642 - val_loss: 0.4688 - val_accuracy: 0.9035\n",
            "Epoch 33/1000\n",
            " 1/33 [..............................] - ETA: 0s - loss: 0.8809 - accuracy: 0.6406\n",
            "Epoch 33: saving model to model/keypoint_classifier\\keypoint_classifier.hdf5\n",
            "33/33 [==============================] - 0s 3ms/step - loss: 0.8317 - accuracy: 0.6728 - val_loss: 0.4611 - val_accuracy: 0.9135\n",
            "Epoch 34/1000\n",
            " 1/33 [..............................] - ETA: 0s - loss: 0.7282 - accuracy: 0.6562\n",
            "Epoch 34: saving model to model/keypoint_classifier\\keypoint_classifier.hdf5\n",
            "33/33 [==============================] - 0s 3ms/step - loss: 0.8136 - accuracy: 0.6752 - val_loss: 0.4606 - val_accuracy: 0.9157\n",
            "Epoch 35/1000\n",
            " 1/33 [..............................] - ETA: 0s - loss: 0.7503 - accuracy: 0.6797\n",
            "Epoch 35: saving model to model/keypoint_classifier\\keypoint_classifier.hdf5\n",
            "33/33 [==============================] - 0s 3ms/step - loss: 0.8114 - accuracy: 0.6821 - val_loss: 0.4571 - val_accuracy: 0.9135\n",
            "Epoch 36/1000\n",
            " 1/33 [..............................] - ETA: 0s - loss: 0.7592 - accuracy: 0.6719\n",
            "Epoch 36: saving model to model/keypoint_classifier\\keypoint_classifier.hdf5\n",
            "33/33 [==============================] - 0s 3ms/step - loss: 0.7968 - accuracy: 0.6814 - val_loss: 0.4442 - val_accuracy: 0.9221\n",
            "Epoch 37/1000\n",
            " 1/33 [..............................] - ETA: 0s - loss: 0.7570 - accuracy: 0.6719\n",
            "Epoch 37: saving model to model/keypoint_classifier\\keypoint_classifier.hdf5\n",
            "33/33 [==============================] - 0s 3ms/step - loss: 0.8069 - accuracy: 0.6845 - val_loss: 0.4366 - val_accuracy: 0.9207\n",
            "Epoch 38/1000\n",
            " 1/33 [..............................] - ETA: 0s - loss: 0.7329 - accuracy: 0.7734\n",
            "Epoch 38: saving model to model/keypoint_classifier\\keypoint_classifier.hdf5\n",
            "33/33 [==============================] - 0s 3ms/step - loss: 0.7782 - accuracy: 0.6964 - val_loss: 0.4209 - val_accuracy: 0.9271\n",
            "Epoch 39/1000\n",
            " 1/33 [..............................] - ETA: 0s - loss: 0.7261 - accuracy: 0.7266\n",
            "Epoch 39: saving model to model/keypoint_classifier\\keypoint_classifier.hdf5\n",
            "33/33 [==============================] - 0s 3ms/step - loss: 0.7779 - accuracy: 0.6923 - val_loss: 0.4147 - val_accuracy: 0.9314\n",
            "Epoch 40/1000\n",
            " 1/33 [..............................] - ETA: 0s - loss: 0.8395 - accuracy: 0.6875\n",
            "Epoch 40: saving model to model/keypoint_classifier\\keypoint_classifier.hdf5\n",
            "33/33 [==============================] - 0s 3ms/step - loss: 0.7690 - accuracy: 0.6966 - val_loss: 0.4106 - val_accuracy: 0.9314\n",
            "Epoch 41/1000\n",
            " 1/33 [..............................] - ETA: 0s - loss: 0.8001 - accuracy: 0.7109\n",
            "Epoch 41: saving model to model/keypoint_classifier\\keypoint_classifier.hdf5\n",
            "33/33 [==============================] - 0s 3ms/step - loss: 0.7552 - accuracy: 0.7071 - val_loss: 0.3950 - val_accuracy: 0.9400\n",
            "Epoch 42/1000\n",
            " 1/33 [..............................] - ETA: 0s - loss: 0.8649 - accuracy: 0.6641\n",
            "Epoch 42: saving model to model/keypoint_classifier\\keypoint_classifier.hdf5\n",
            "33/33 [==============================] - 0s 3ms/step - loss: 0.7672 - accuracy: 0.7064 - val_loss: 0.3963 - val_accuracy: 0.9392\n",
            "Epoch 43/1000\n",
            " 1/33 [..............................] - ETA: 0s - loss: 0.7840 - accuracy: 0.6562\n",
            "Epoch 43: saving model to model/keypoint_classifier\\keypoint_classifier.hdf5\n",
            "33/33 [==============================] - 0s 3ms/step - loss: 0.7593 - accuracy: 0.7033 - val_loss: 0.3992 - val_accuracy: 0.9371\n",
            "Epoch 44/1000\n",
            " 1/33 [..............................] - ETA: 0s - loss: 0.7204 - accuracy: 0.6797\n",
            "Epoch 44: saving model to model/keypoint_classifier\\keypoint_classifier.hdf5\n",
            "33/33 [==============================] - 0s 3ms/step - loss: 0.7450 - accuracy: 0.7081 - val_loss: 0.3854 - val_accuracy: 0.9385\n",
            "Epoch 45/1000\n",
            " 1/33 [..............................] - ETA: 0s - loss: 0.6747 - accuracy: 0.6797\n",
            "Epoch 45: saving model to model/keypoint_classifier\\keypoint_classifier.hdf5\n",
            "33/33 [==============================] - 0s 3ms/step - loss: 0.7399 - accuracy: 0.7069 - val_loss: 0.3773 - val_accuracy: 0.9442\n",
            "Epoch 46/1000\n",
            " 1/33 [..............................] - ETA: 0s - loss: 0.7979 - accuracy: 0.7422\n",
            "Epoch 46: saving model to model/keypoint_classifier\\keypoint_classifier.hdf5\n",
            "33/33 [==============================] - 0s 3ms/step - loss: 0.7391 - accuracy: 0.7116 - val_loss: 0.3756 - val_accuracy: 0.9392\n",
            "Epoch 47/1000\n",
            " 1/33 [..............................] - ETA: 0s - loss: 0.6790 - accuracy: 0.7578\n",
            "Epoch 47: saving model to model/keypoint_classifier\\keypoint_classifier.hdf5\n",
            "33/33 [==============================] - 0s 3ms/step - loss: 0.7360 - accuracy: 0.7243 - val_loss: 0.3690 - val_accuracy: 0.9421\n",
            "Epoch 48/1000\n",
            " 1/33 [..............................] - ETA: 0s - loss: 0.6998 - accuracy: 0.7578\n",
            "Epoch 48: saving model to model/keypoint_classifier\\keypoint_classifier.hdf5\n",
            "33/33 [==============================] - 0s 3ms/step - loss: 0.7255 - accuracy: 0.7214 - val_loss: 0.3670 - val_accuracy: 0.9407\n",
            "Epoch 49/1000\n",
            " 1/33 [..............................] - ETA: 0s - loss: 0.6295 - accuracy: 0.7422\n",
            "Epoch 49: saving model to model/keypoint_classifier\\keypoint_classifier.hdf5\n",
            "33/33 [==============================] - 0s 3ms/step - loss: 0.7388 - accuracy: 0.7081 - val_loss: 0.3646 - val_accuracy: 0.9442\n",
            "Epoch 50/1000\n",
            " 1/33 [..............................] - ETA: 0s - loss: 0.7453 - accuracy: 0.7266\n",
            "Epoch 50: saving model to model/keypoint_classifier\\keypoint_classifier.hdf5\n",
            "33/33 [==============================] - 0s 3ms/step - loss: 0.7298 - accuracy: 0.7178 - val_loss: 0.3632 - val_accuracy: 0.9464\n",
            "Epoch 51/1000\n",
            " 1/33 [..............................] - ETA: 0s - loss: 0.7580 - accuracy: 0.6953\n",
            "Epoch 51: saving model to model/keypoint_classifier\\keypoint_classifier.hdf5\n",
            "33/33 [==============================] - 0s 3ms/step - loss: 0.7226 - accuracy: 0.7240 - val_loss: 0.3572 - val_accuracy: 0.9485\n",
            "Epoch 52/1000\n",
            " 1/33 [..............................] - ETA: 0s - loss: 0.9255 - accuracy: 0.7188\n",
            "Epoch 52: saving model to model/keypoint_classifier\\keypoint_classifier.hdf5\n",
            "33/33 [==============================] - 0s 3ms/step - loss: 0.7217 - accuracy: 0.7231 - val_loss: 0.3509 - val_accuracy: 0.9471\n",
            "Epoch 53/1000\n",
            "32/33 [============================>.] - ETA: 0s - loss: 0.7171 - accuracy: 0.7271\n",
            "Epoch 53: saving model to model/keypoint_classifier\\keypoint_classifier.hdf5\n",
            "33/33 [==============================] - 0s 3ms/step - loss: 0.7177 - accuracy: 0.7264 - val_loss: 0.3462 - val_accuracy: 0.9492\n",
            "Epoch 54/1000\n",
            " 1/33 [..............................] - ETA: 0s - loss: 0.7733 - accuracy: 0.6641\n",
            "Epoch 54: saving model to model/keypoint_classifier\\keypoint_classifier.hdf5\n",
            "33/33 [==============================] - 0s 3ms/step - loss: 0.7237 - accuracy: 0.7235 - val_loss: 0.3500 - val_accuracy: 0.9450\n",
            "Epoch 55/1000\n",
            " 1/33 [..............................] - ETA: 0s - loss: 0.6632 - accuracy: 0.7500\n",
            "Epoch 55: saving model to model/keypoint_classifier\\keypoint_classifier.hdf5\n",
            "33/33 [==============================] - 0s 3ms/step - loss: 0.7118 - accuracy: 0.7240 - val_loss: 0.3454 - val_accuracy: 0.9485\n",
            "Epoch 56/1000\n",
            " 1/33 [..............................] - ETA: 0s - loss: 0.6211 - accuracy: 0.7578\n",
            "Epoch 56: saving model to model/keypoint_classifier\\keypoint_classifier.hdf5\n",
            "33/33 [==============================] - 0s 3ms/step - loss: 0.7029 - accuracy: 0.7319 - val_loss: 0.3375 - val_accuracy: 0.9478\n",
            "Epoch 57/1000\n",
            " 1/33 [..............................] - ETA: 0s - loss: 0.6529 - accuracy: 0.7500\n",
            "Epoch 57: saving model to model/keypoint_classifier\\keypoint_classifier.hdf5\n",
            "33/33 [==============================] - 0s 3ms/step - loss: 0.7147 - accuracy: 0.7278 - val_loss: 0.3424 - val_accuracy: 0.9500\n",
            "Epoch 58/1000\n",
            " 1/33 [..............................] - ETA: 0s - loss: 0.7019 - accuracy: 0.7109\n",
            "Epoch 58: saving model to model/keypoint_classifier\\keypoint_classifier.hdf5\n",
            "33/33 [==============================] - 0s 3ms/step - loss: 0.7179 - accuracy: 0.7228 - val_loss: 0.3377 - val_accuracy: 0.9478\n",
            "Epoch 59/1000\n",
            " 1/33 [..............................] - ETA: 0s - loss: 0.6910 - accuracy: 0.7266\n",
            "Epoch 59: saving model to model/keypoint_classifier\\keypoint_classifier.hdf5\n",
            "33/33 [==============================] - 0s 3ms/step - loss: 0.7065 - accuracy: 0.7343 - val_loss: 0.3324 - val_accuracy: 0.9464\n",
            "Epoch 60/1000\n",
            " 1/33 [..............................] - ETA: 0s - loss: 0.7066 - accuracy: 0.7109\n",
            "Epoch 60: saving model to model/keypoint_classifier\\keypoint_classifier.hdf5\n",
            "33/33 [==============================] - 0s 3ms/step - loss: 0.6946 - accuracy: 0.7388 - val_loss: 0.3313 - val_accuracy: 0.9514\n",
            "Epoch 61/1000\n",
            " 1/33 [..............................] - ETA: 0s - loss: 0.6364 - accuracy: 0.7656\n",
            "Epoch 61: saving model to model/keypoint_classifier\\keypoint_classifier.hdf5\n",
            "33/33 [==============================] - 0s 3ms/step - loss: 0.7104 - accuracy: 0.7269 - val_loss: 0.3284 - val_accuracy: 0.9478\n",
            "Epoch 62/1000\n",
            " 1/33 [..............................] - ETA: 0s - loss: 0.6109 - accuracy: 0.7344\n",
            "Epoch 62: saving model to model/keypoint_classifier\\keypoint_classifier.hdf5\n",
            "33/33 [==============================] - 0s 3ms/step - loss: 0.6879 - accuracy: 0.7388 - val_loss: 0.3235 - val_accuracy: 0.9550\n",
            "Epoch 63/1000\n",
            " 1/33 [..............................] - ETA: 0s - loss: 0.6780 - accuracy: 0.7188\n",
            "Epoch 63: saving model to model/keypoint_classifier\\keypoint_classifier.hdf5\n",
            "33/33 [==============================] - 0s 3ms/step - loss: 0.6793 - accuracy: 0.7369 - val_loss: 0.3187 - val_accuracy: 0.9485\n",
            "Epoch 64/1000\n",
            " 1/33 [..............................] - ETA: 0s - loss: 0.7511 - accuracy: 0.6953\n",
            "Epoch 64: saving model to model/keypoint_classifier\\keypoint_classifier.hdf5\n",
            "33/33 [==============================] - 0s 3ms/step - loss: 0.6702 - accuracy: 0.7450 - val_loss: 0.3140 - val_accuracy: 0.9500\n",
            "Epoch 65/1000\n",
            " 1/33 [..............................] - ETA: 0s - loss: 0.6573 - accuracy: 0.7422\n",
            "Epoch 65: saving model to model/keypoint_classifier\\keypoint_classifier.hdf5\n",
            "33/33 [==============================] - 0s 3ms/step - loss: 0.6808 - accuracy: 0.7395 - val_loss: 0.3133 - val_accuracy: 0.9492\n",
            "Epoch 66/1000\n",
            " 1/33 [..............................] - ETA: 0s - loss: 0.7433 - accuracy: 0.6719\n",
            "Epoch 66: saving model to model/keypoint_classifier\\keypoint_classifier.hdf5\n",
            "33/33 [==============================] - 0s 3ms/step - loss: 0.6926 - accuracy: 0.7302 - val_loss: 0.3183 - val_accuracy: 0.9485\n",
            "Epoch 67/1000\n",
            " 1/33 [..............................] - ETA: 0s - loss: 0.7047 - accuracy: 0.7422\n",
            "Epoch 67: saving model to model/keypoint_classifier\\keypoint_classifier.hdf5\n",
            "33/33 [==============================] - 0s 3ms/step - loss: 0.6823 - accuracy: 0.7371 - val_loss: 0.3197 - val_accuracy: 0.9442\n",
            "Epoch 68/1000\n",
            " 1/33 [..............................] - ETA: 0s - loss: 0.6812 - accuracy: 0.6875\n",
            "Epoch 68: saving model to model/keypoint_classifier\\keypoint_classifier.hdf5\n",
            "33/33 [==============================] - 0s 3ms/step - loss: 0.6778 - accuracy: 0.7378 - val_loss: 0.3134 - val_accuracy: 0.9543\n",
            "Epoch 69/1000\n",
            " 1/33 [..............................] - ETA: 0s - loss: 0.6362 - accuracy: 0.7812\n",
            "Epoch 69: saving model to model/keypoint_classifier\\keypoint_classifier.hdf5\n",
            "33/33 [==============================] - 0s 3ms/step - loss: 0.6662 - accuracy: 0.7407 - val_loss: 0.3108 - val_accuracy: 0.9500\n",
            "Epoch 70/1000\n",
            " 1/33 [..............................] - ETA: 0s - loss: 0.6462 - accuracy: 0.7734\n",
            "Epoch 70: saving model to model/keypoint_classifier\\keypoint_classifier.hdf5\n",
            "33/33 [==============================] - 0s 3ms/step - loss: 0.6655 - accuracy: 0.7507 - val_loss: 0.3060 - val_accuracy: 0.9521\n",
            "Epoch 71/1000\n",
            " 1/33 [..............................] - ETA: 0s - loss: 0.7062 - accuracy: 0.7109\n",
            "Epoch 71: saving model to model/keypoint_classifier\\keypoint_classifier.hdf5\n",
            "33/33 [==============================] - 0s 3ms/step - loss: 0.6740 - accuracy: 0.7459 - val_loss: 0.3004 - val_accuracy: 0.9543\n",
            "Epoch 72/1000\n",
            " 1/33 [..............................] - ETA: 0s - loss: 0.7629 - accuracy: 0.7344\n",
            "Epoch 72: saving model to model/keypoint_classifier\\keypoint_classifier.hdf5\n",
            "33/33 [==============================] - 0s 3ms/step - loss: 0.6528 - accuracy: 0.7529 - val_loss: 0.2994 - val_accuracy: 0.9514\n",
            "Epoch 73/1000\n",
            " 1/33 [..............................] - ETA: 0s - loss: 0.6827 - accuracy: 0.7188\n",
            "Epoch 73: saving model to model/keypoint_classifier\\keypoint_classifier.hdf5\n",
            "33/33 [==============================] - 0s 3ms/step - loss: 0.6589 - accuracy: 0.7526 - val_loss: 0.2901 - val_accuracy: 0.9543\n",
            "Epoch 74/1000\n",
            " 1/33 [..............................] - ETA: 0s - loss: 0.5997 - accuracy: 0.7734\n",
            "Epoch 74: saving model to model/keypoint_classifier\\keypoint_classifier.hdf5\n",
            "33/33 [==============================] - 0s 3ms/step - loss: 0.6667 - accuracy: 0.7474 - val_loss: 0.2934 - val_accuracy: 0.9514\n",
            "Epoch 75/1000\n",
            " 1/33 [..............................] - ETA: 0s - loss: 0.6152 - accuracy: 0.8438\n",
            "Epoch 75: saving model to model/keypoint_classifier\\keypoint_classifier.hdf5\n",
            "33/33 [==============================] - 0s 3ms/step - loss: 0.6464 - accuracy: 0.7533 - val_loss: 0.2961 - val_accuracy: 0.9485\n",
            "Epoch 76/1000\n",
            " 1/33 [..............................] - ETA: 0s - loss: 0.6832 - accuracy: 0.6797\n",
            "Epoch 76: saving model to model/keypoint_classifier\\keypoint_classifier.hdf5\n",
            "33/33 [==============================] - 0s 3ms/step - loss: 0.6561 - accuracy: 0.7471 - val_loss: 0.2945 - val_accuracy: 0.9593\n",
            "Epoch 77/1000\n",
            " 1/33 [..............................] - ETA: 0s - loss: 0.7017 - accuracy: 0.7344\n",
            "Epoch 77: saving model to model/keypoint_classifier\\keypoint_classifier.hdf5\n",
            "33/33 [==============================] - 0s 3ms/step - loss: 0.6599 - accuracy: 0.7481 - val_loss: 0.2965 - val_accuracy: 0.9643\n",
            "Epoch 78/1000\n",
            " 1/33 [..............................] - ETA: 0s - loss: 0.6455 - accuracy: 0.7891\n",
            "Epoch 78: saving model to model/keypoint_classifier\\keypoint_classifier.hdf5\n",
            "33/33 [==============================] - 0s 3ms/step - loss: 0.6507 - accuracy: 0.7583 - val_loss: 0.2989 - val_accuracy: 0.9550\n",
            "Epoch 79/1000\n",
            " 1/33 [..............................] - ETA: 0s - loss: 0.7937 - accuracy: 0.6953\n",
            "Epoch 79: saving model to model/keypoint_classifier\\keypoint_classifier.hdf5\n",
            "33/33 [==============================] - 0s 3ms/step - loss: 0.6378 - accuracy: 0.7545 - val_loss: 0.2882 - val_accuracy: 0.9593\n",
            "Epoch 80/1000\n",
            " 1/33 [..............................] - ETA: 0s - loss: 0.6037 - accuracy: 0.7656\n",
            "Epoch 80: saving model to model/keypoint_classifier\\keypoint_classifier.hdf5\n",
            "33/33 [==============================] - 0s 3ms/step - loss: 0.6400 - accuracy: 0.7567 - val_loss: 0.2877 - val_accuracy: 0.9600\n",
            "Epoch 81/1000\n",
            " 1/33 [..............................] - ETA: 0s - loss: 0.5675 - accuracy: 0.7891\n",
            "Epoch 81: saving model to model/keypoint_classifier\\keypoint_classifier.hdf5\n",
            "33/33 [==============================] - 0s 3ms/step - loss: 0.6434 - accuracy: 0.7569 - val_loss: 0.2924 - val_accuracy: 0.9593\n",
            "Epoch 82/1000\n",
            " 1/33 [..............................] - ETA: 0s - loss: 0.7301 - accuracy: 0.7266\n",
            "Epoch 82: saving model to model/keypoint_classifier\\keypoint_classifier.hdf5\n",
            "33/33 [==============================] - 0s 3ms/step - loss: 0.6483 - accuracy: 0.7538 - val_loss: 0.2877 - val_accuracy: 0.9528\n",
            "Epoch 83/1000\n",
            " 1/33 [..............................] - ETA: 0s - loss: 0.6233 - accuracy: 0.7500\n",
            "Epoch 83: saving model to model/keypoint_classifier\\keypoint_classifier.hdf5\n",
            "33/33 [==============================] - 0s 3ms/step - loss: 0.6401 - accuracy: 0.7550 - val_loss: 0.2837 - val_accuracy: 0.9614\n",
            "Epoch 84/1000\n",
            " 1/33 [..............................] - ETA: 0s - loss: 0.6190 - accuracy: 0.7656\n",
            "Epoch 84: saving model to model/keypoint_classifier\\keypoint_classifier.hdf5\n",
            "33/33 [==============================] - 0s 3ms/step - loss: 0.6168 - accuracy: 0.7724 - val_loss: 0.2872 - val_accuracy: 0.9543\n",
            "Epoch 85/1000\n",
            " 1/33 [..............................] - ETA: 0s - loss: 0.8017 - accuracy: 0.7031\n",
            "Epoch 85: saving model to model/keypoint_classifier\\keypoint_classifier.hdf5\n",
            "33/33 [==============================] - 0s 3ms/step - loss: 0.6518 - accuracy: 0.7531 - val_loss: 0.2844 - val_accuracy: 0.9571\n",
            "Epoch 86/1000\n",
            " 1/33 [..............................] - ETA: 0s - loss: 0.6469 - accuracy: 0.7188\n",
            "Epoch 86: saving model to model/keypoint_classifier\\keypoint_classifier.hdf5\n",
            "33/33 [==============================] - 0s 3ms/step - loss: 0.6529 - accuracy: 0.7498 - val_loss: 0.2812 - val_accuracy: 0.9621\n",
            "Epoch 87/1000\n",
            " 1/33 [..............................] - ETA: 0s - loss: 0.5186 - accuracy: 0.8203\n",
            "Epoch 87: saving model to model/keypoint_classifier\\keypoint_classifier.hdf5\n",
            "33/33 [==============================] - 0s 3ms/step - loss: 0.6357 - accuracy: 0.7605 - val_loss: 0.2866 - val_accuracy: 0.9578\n",
            "Epoch 88/1000\n",
            " 1/33 [..............................] - ETA: 0s - loss: 0.6562 - accuracy: 0.7656\n",
            "Epoch 88: saving model to model/keypoint_classifier\\keypoint_classifier.hdf5\n",
            "33/33 [==============================] - 0s 3ms/step - loss: 0.6490 - accuracy: 0.7552 - val_loss: 0.2846 - val_accuracy: 0.9607\n",
            "Epoch 89/1000\n",
            " 1/33 [..............................] - ETA: 0s - loss: 0.7930 - accuracy: 0.6875\n",
            "Epoch 89: saving model to model/keypoint_classifier\\keypoint_classifier.hdf5\n",
            "33/33 [==============================] - 0s 3ms/step - loss: 0.6375 - accuracy: 0.7581 - val_loss: 0.2833 - val_accuracy: 0.9507\n",
            "Epoch 90/1000\n",
            " 1/33 [..............................] - ETA: 0s - loss: 0.5005 - accuracy: 0.8125\n",
            "Epoch 90: saving model to model/keypoint_classifier\\keypoint_classifier.hdf5\n",
            "33/33 [==============================] - 0s 3ms/step - loss: 0.6243 - accuracy: 0.7622 - val_loss: 0.2758 - val_accuracy: 0.9643\n",
            "Epoch 91/1000\n",
            " 1/33 [..............................] - ETA: 0s - loss: 0.5441 - accuracy: 0.7734\n",
            "Epoch 91: saving model to model/keypoint_classifier\\keypoint_classifier.hdf5\n",
            "33/33 [==============================] - 0s 3ms/step - loss: 0.6253 - accuracy: 0.7598 - val_loss: 0.2831 - val_accuracy: 0.9543\n",
            "Epoch 92/1000\n",
            " 1/33 [..............................] - ETA: 0s - loss: 0.7989 - accuracy: 0.7188\n",
            "Epoch 92: saving model to model/keypoint_classifier\\keypoint_classifier.hdf5\n",
            "33/33 [==============================] - 0s 3ms/step - loss: 0.6351 - accuracy: 0.7593 - val_loss: 0.2803 - val_accuracy: 0.9564\n",
            "Epoch 93/1000\n",
            " 1/33 [..............................] - ETA: 0s - loss: 0.7025 - accuracy: 0.7422\n",
            "Epoch 93: saving model to model/keypoint_classifier\\keypoint_classifier.hdf5\n",
            "33/33 [==============================] - 0s 3ms/step - loss: 0.6425 - accuracy: 0.7557 - val_loss: 0.2815 - val_accuracy: 0.9593\n",
            "Epoch 94/1000\n",
            " 1/33 [..............................] - ETA: 0s - loss: 0.6143 - accuracy: 0.7656\n",
            "Epoch 94: saving model to model/keypoint_classifier\\keypoint_classifier.hdf5\n",
            "33/33 [==============================] - 0s 3ms/step - loss: 0.6207 - accuracy: 0.7650 - val_loss: 0.2775 - val_accuracy: 0.9578\n",
            "Epoch 95/1000\n",
            " 1/33 [..............................] - ETA: 0s - loss: 0.5613 - accuracy: 0.7969\n",
            "Epoch 95: saving model to model/keypoint_classifier\\keypoint_classifier.hdf5\n",
            "33/33 [==============================] - 0s 3ms/step - loss: 0.6139 - accuracy: 0.7657 - val_loss: 0.2755 - val_accuracy: 0.9593\n",
            "Epoch 96/1000\n",
            " 1/33 [..............................] - ETA: 0s - loss: 0.5403 - accuracy: 0.8281\n",
            "Epoch 96: saving model to model/keypoint_classifier\\keypoint_classifier.hdf5\n",
            "33/33 [==============================] - 0s 3ms/step - loss: 0.6167 - accuracy: 0.7636 - val_loss: 0.2695 - val_accuracy: 0.9607\n",
            "Epoch 97/1000\n",
            " 1/33 [..............................] - ETA: 0s - loss: 0.6791 - accuracy: 0.7656\n",
            "Epoch 97: saving model to model/keypoint_classifier\\keypoint_classifier.hdf5\n",
            "33/33 [==============================] - 0s 3ms/step - loss: 0.6318 - accuracy: 0.7569 - val_loss: 0.2763 - val_accuracy: 0.9607\n",
            "Epoch 98/1000\n",
            " 1/33 [..............................] - ETA: 0s - loss: 0.6502 - accuracy: 0.7344\n",
            "Epoch 98: saving model to model/keypoint_classifier\\keypoint_classifier.hdf5\n",
            "33/33 [==============================] - 0s 4ms/step - loss: 0.6298 - accuracy: 0.7581 - val_loss: 0.2781 - val_accuracy: 0.9614\n",
            "Epoch 99/1000\n",
            " 1/33 [..............................] - ETA: 0s - loss: 0.6640 - accuracy: 0.7188\n",
            "Epoch 99: saving model to model/keypoint_classifier\\keypoint_classifier.hdf5\n",
            "33/33 [==============================] - 0s 3ms/step - loss: 0.6216 - accuracy: 0.7629 - val_loss: 0.2755 - val_accuracy: 0.9593\n",
            "Epoch 100/1000\n",
            " 1/33 [..............................] - ETA: 0s - loss: 0.5918 - accuracy: 0.7812\n",
            "Epoch 100: saving model to model/keypoint_classifier\\keypoint_classifier.hdf5\n",
            "33/33 [==============================] - 0s 3ms/step - loss: 0.6172 - accuracy: 0.7688 - val_loss: 0.2749 - val_accuracy: 0.9621\n",
            "Epoch 101/1000\n",
            " 1/33 [..............................] - ETA: 0s - loss: 0.6926 - accuracy: 0.7422\n",
            "Epoch 101: saving model to model/keypoint_classifier\\keypoint_classifier.hdf5\n",
            "33/33 [==============================] - 0s 3ms/step - loss: 0.6061 - accuracy: 0.7719 - val_loss: 0.2675 - val_accuracy: 0.9571\n",
            "Epoch 102/1000\n",
            " 1/33 [..............................] - ETA: 0s - loss: 0.7188 - accuracy: 0.6953\n",
            "Epoch 102: saving model to model/keypoint_classifier\\keypoint_classifier.hdf5\n",
            "33/33 [==============================] - 0s 3ms/step - loss: 0.6057 - accuracy: 0.7624 - val_loss: 0.2676 - val_accuracy: 0.9628\n",
            "Epoch 103/1000\n",
            " 1/33 [..............................] - ETA: 0s - loss: 0.6212 - accuracy: 0.7422\n",
            "Epoch 103: saving model to model/keypoint_classifier\\keypoint_classifier.hdf5\n",
            "33/33 [==============================] - 0s 3ms/step - loss: 0.6011 - accuracy: 0.7674 - val_loss: 0.2726 - val_accuracy: 0.9643\n",
            "Epoch 104/1000\n",
            " 1/33 [..............................] - ETA: 0s - loss: 0.5183 - accuracy: 0.7656\n",
            "Epoch 104: saving model to model/keypoint_classifier\\keypoint_classifier.hdf5\n",
            "33/33 [==============================] - 0s 3ms/step - loss: 0.6312 - accuracy: 0.7586 - val_loss: 0.2647 - val_accuracy: 0.9643\n",
            "Epoch 105/1000\n",
            " 1/33 [..............................] - ETA: 0s - loss: 0.6830 - accuracy: 0.7109\n",
            "Epoch 105: saving model to model/keypoint_classifier\\keypoint_classifier.hdf5\n",
            "33/33 [==============================] - 0s 3ms/step - loss: 0.6196 - accuracy: 0.7617 - val_loss: 0.2712 - val_accuracy: 0.9600\n",
            "Epoch 106/1000\n",
            " 1/33 [..............................] - ETA: 0s - loss: 0.5067 - accuracy: 0.8047\n",
            "Epoch 106: saving model to model/keypoint_classifier\\keypoint_classifier.hdf5\n",
            "33/33 [==============================] - 0s 3ms/step - loss: 0.6179 - accuracy: 0.7660 - val_loss: 0.2750 - val_accuracy: 0.9614\n",
            "Epoch 107/1000\n",
            " 1/33 [..............................] - ETA: 0s - loss: 0.6953 - accuracy: 0.7344\n",
            "Epoch 107: saving model to model/keypoint_classifier\\keypoint_classifier.hdf5\n",
            "33/33 [==============================] - 0s 3ms/step - loss: 0.6177 - accuracy: 0.7653 - val_loss: 0.2724 - val_accuracy: 0.9628\n",
            "Epoch 108/1000\n",
            " 1/33 [..............................] - ETA: 0s - loss: 0.6292 - accuracy: 0.7422\n",
            "Epoch 108: saving model to model/keypoint_classifier\\keypoint_classifier.hdf5\n",
            "33/33 [==============================] - 0s 3ms/step - loss: 0.6194 - accuracy: 0.7591 - val_loss: 0.2721 - val_accuracy: 0.9607\n",
            "Epoch 109/1000\n",
            " 1/33 [..............................] - ETA: 0s - loss: 0.6918 - accuracy: 0.7109\n",
            "Epoch 109: saving model to model/keypoint_classifier\\keypoint_classifier.hdf5\n",
            "33/33 [==============================] - 0s 3ms/step - loss: 0.6311 - accuracy: 0.7619 - val_loss: 0.2826 - val_accuracy: 0.9693\n",
            "Epoch 110/1000\n",
            " 1/33 [..............................] - ETA: 0s - loss: 0.5643 - accuracy: 0.7969\n",
            "Epoch 110: saving model to model/keypoint_classifier\\keypoint_classifier.hdf5\n",
            "33/33 [==============================] - 0s 3ms/step - loss: 0.5984 - accuracy: 0.7712 - val_loss: 0.2803 - val_accuracy: 0.9643\n",
            "Epoch 111/1000\n",
            " 1/33 [..............................] - ETA: 0s - loss: 0.8344 - accuracy: 0.6797\n",
            "Epoch 111: saving model to model/keypoint_classifier\\keypoint_classifier.hdf5\n",
            "33/33 [==============================] - 0s 3ms/step - loss: 0.6345 - accuracy: 0.7605 - val_loss: 0.2720 - val_accuracy: 0.9635\n",
            "Epoch 112/1000\n",
            " 1/33 [..............................] - ETA: 0s - loss: 0.6141 - accuracy: 0.7812\n",
            "Epoch 112: saving model to model/keypoint_classifier\\keypoint_classifier.hdf5\n",
            "33/33 [==============================] - 0s 3ms/step - loss: 0.6134 - accuracy: 0.7674 - val_loss: 0.2729 - val_accuracy: 0.9671\n",
            "Epoch 113/1000\n",
            " 1/33 [..............................] - ETA: 0s - loss: 0.8069 - accuracy: 0.7344\n",
            "Epoch 113: saving model to model/keypoint_classifier\\keypoint_classifier.hdf5\n",
            "33/33 [==============================] - 0s 3ms/step - loss: 0.5988 - accuracy: 0.7679 - val_loss: 0.2732 - val_accuracy: 0.9628\n",
            "Epoch 114/1000\n",
            " 1/33 [..............................] - ETA: 0s - loss: 0.6836 - accuracy: 0.6719\n",
            "Epoch 114: saving model to model/keypoint_classifier\\keypoint_classifier.hdf5\n",
            "33/33 [==============================] - 0s 3ms/step - loss: 0.6039 - accuracy: 0.7676 - val_loss: 0.2702 - val_accuracy: 0.9621\n",
            "Epoch 115/1000\n",
            " 1/33 [..............................] - ETA: 0s - loss: 0.6445 - accuracy: 0.7422\n",
            "Epoch 115: saving model to model/keypoint_classifier\\keypoint_classifier.hdf5\n",
            "33/33 [==============================] - 0s 3ms/step - loss: 0.6101 - accuracy: 0.7667 - val_loss: 0.2769 - val_accuracy: 0.9714\n",
            "Epoch 116/1000\n",
            " 1/33 [..............................] - ETA: 0s - loss: 0.7848 - accuracy: 0.6797\n",
            "Epoch 116: saving model to model/keypoint_classifier\\keypoint_classifier.hdf5\n",
            "33/33 [==============================] - 0s 3ms/step - loss: 0.6185 - accuracy: 0.7698 - val_loss: 0.2691 - val_accuracy: 0.9714\n",
            "Epoch 117/1000\n",
            " 1/33 [..............................] - ETA: 0s - loss: 0.5079 - accuracy: 0.8281\n",
            "Epoch 117: saving model to model/keypoint_classifier\\keypoint_classifier.hdf5\n",
            "33/33 [==============================] - 0s 3ms/step - loss: 0.6022 - accuracy: 0.7717 - val_loss: 0.2716 - val_accuracy: 0.9650\n",
            "Epoch 118/1000\n",
            " 1/33 [..............................] - ETA: 0s - loss: 0.7228 - accuracy: 0.6719\n",
            "Epoch 118: saving model to model/keypoint_classifier\\keypoint_classifier.hdf5\n",
            "33/33 [==============================] - 0s 3ms/step - loss: 0.6088 - accuracy: 0.7688 - val_loss: 0.2788 - val_accuracy: 0.9657\n",
            "Epoch 119/1000\n",
            " 1/33 [..............................] - ETA: 0s - loss: 0.5471 - accuracy: 0.7969\n",
            "Epoch 119: saving model to model/keypoint_classifier\\keypoint_classifier.hdf5\n",
            "33/33 [==============================] - 0s 3ms/step - loss: 0.6035 - accuracy: 0.7698 - val_loss: 0.2717 - val_accuracy: 0.9628\n",
            "Epoch 120/1000\n",
            " 1/33 [..............................] - ETA: 0s - loss: 0.7611 - accuracy: 0.7344\n",
            "Epoch 120: saving model to model/keypoint_classifier\\keypoint_classifier.hdf5\n",
            "33/33 [==============================] - 0s 3ms/step - loss: 0.6071 - accuracy: 0.7714 - val_loss: 0.2705 - val_accuracy: 0.9635\n",
            "Epoch 121/1000\n",
            " 1/33 [..............................] - ETA: 0s - loss: 0.5163 - accuracy: 0.8125\n",
            "Epoch 121: saving model to model/keypoint_classifier\\keypoint_classifier.hdf5\n",
            "33/33 [==============================] - 0s 3ms/step - loss: 0.5981 - accuracy: 0.7693 - val_loss: 0.2802 - val_accuracy: 0.9585\n",
            "Epoch 122/1000\n",
            " 1/33 [..............................] - ETA: 0s - loss: 0.4554 - accuracy: 0.8359\n",
            "Epoch 122: saving model to model/keypoint_classifier\\keypoint_classifier.hdf5\n",
            "33/33 [==============================] - 0s 3ms/step - loss: 0.6054 - accuracy: 0.7581 - val_loss: 0.2736 - val_accuracy: 0.9628\n",
            "Epoch 123/1000\n",
            " 1/33 [..............................] - ETA: 0s - loss: 0.5508 - accuracy: 0.7734\n",
            "Epoch 123: saving model to model/keypoint_classifier\\keypoint_classifier.hdf5\n",
            "33/33 [==============================] - 0s 3ms/step - loss: 0.6130 - accuracy: 0.7679 - val_loss: 0.2757 - val_accuracy: 0.9635\n",
            "Epoch 124/1000\n",
            " 1/33 [..............................] - ETA: 0s - loss: 0.5694 - accuracy: 0.7812\n",
            "Epoch 124: saving model to model/keypoint_classifier\\keypoint_classifier.hdf5\n",
            "33/33 [==============================] - 0s 3ms/step - loss: 0.6115 - accuracy: 0.7622 - val_loss: 0.2768 - val_accuracy: 0.9678\n",
            "Epoch 124: early stopping\n"
          ]
        },
        {
          "data": {
            "text/plain": [
              "<keras.src.callbacks.History at 0x207894f5de0>"
            ]
          },
          "execution_count": 28,
          "metadata": {},
          "output_type": "execute_result"
        }
      ],
      "source": [
        "model.fit(\n",
        "    X_train,\n",
        "    y_train,\n",
        "    epochs=1000,\n",
        "    batch_size=128,\n",
        "    validation_data=(X_test, y_test),\n",
        "    callbacks=[cp_callback, es_callback]\n",
        ")"
      ]
    },
    {
      "cell_type": "code",
      "execution_count": 29,
      "metadata": {
        "colab": {
          "base_uri": "https://localhost:8080/"
        },
        "id": "pxvb2Y299hE3",
        "outputId": "59eb3185-2e37-4b9e-bc9d-ab1b8ac29b7f"
      },
      "outputs": [
        {
          "name": "stdout",
          "output_type": "stream",
          "text": [
            "11/11 [==============================] - 0s 1ms/step - loss: 0.2768 - accuracy: 0.9678\n"
          ]
        }
      ],
      "source": [
        "# Model evaluation\n",
        "val_loss, val_acc = model.evaluate(X_test, y_test, batch_size=128)"
      ]
    },
    {
      "cell_type": "code",
      "execution_count": 30,
      "metadata": {
        "id": "RBkmDeUW9hE4"
      },
      "outputs": [],
      "source": [
        "# Loading the saved model\n",
        "model = tf.keras.models.load_model(model_save_path)"
      ]
    },
    {
      "cell_type": "code",
      "execution_count": 31,
      "metadata": {
        "colab": {
          "base_uri": "https://localhost:8080/"
        },
        "id": "tFz9Tb0I9hE4",
        "outputId": "1c3b3528-54ae-4ee2-ab04-77429211cbef"
      },
      "outputs": [
        {
          "name": "stdout",
          "output_type": "stream",
          "text": [
            "1/1 [==============================] - 0s 51ms/step\n",
            "[0.06411307 0.6795494  0.19517398 0.02234813 0.03405754 0.00475784]\n",
            "1\n"
          ]
        }
      ],
      "source": [
        "# Inference test\n",
        "predict_result = model.predict(np.array([X_test[0]]))\n",
        "print(np.squeeze(predict_result))\n",
        "print(np.argmax(np.squeeze(predict_result)))"
      ]
    },
    {
      "cell_type": "markdown",
      "metadata": {
        "id": "S3U4yNWx9hE4"
      },
      "source": [
        "# Confusion matrix"
      ]
    },
    {
      "cell_type": "code",
      "execution_count": 32,
      "metadata": {
        "colab": {
          "base_uri": "https://localhost:8080/",
          "height": 582
        },
        "id": "AP1V6SCk9hE5",
        "outputId": "08e41a80-7a4a-4619-8125-ecc371368d19"
      },
      "outputs": [
        {
          "name": "stdout",
          "output_type": "stream",
          "text": [
            "44/44 [==============================] - 0s 942us/step\n"
          ]
        },
        {
          "data": {
            "image/png": "[encoded data removed]",
            "text/plain": [
              "<Figure size 700x600 with 2 Axes>"
            ]
          },
          "metadata": {},
          "output_type": "display_data"
        },
        {
          "name": "stdout",
          "output_type": "stream",
          "text": [
            "Classification Report\n",
            "              precision    recall  f1-score   support\n",
            "\n",
            "           0       0.99      0.96      0.97       412\n",
            "           1       0.98      0.94      0.96       391\n",
            "           2       0.93      0.99      0.96       320\n",
            "           3       0.99      0.97      0.98        88\n",
            "           4       0.96      1.00      0.98       118\n",
            "           5       0.97      1.00      0.99        70\n",
            "\n",
            "    accuracy                           0.97      1399\n",
            "   macro avg       0.97      0.98      0.97      1399\n",
            "weighted avg       0.97      0.97      0.97      1399\n",
            "\n"
          ]
        }
      ],
      "source": [
        "import pandas as pd\n",
        "import seaborn as sns\n",
        "import matplotlib.pyplot as plt\n",
        "from sklearn.metrics import confusion_matrix, classification_report\n",
        "\n",
        "def print_confusion_matrix(y_true, y_pred, report=True):\n",
        "    labels = sorted(list(set(y_true)))\n",
        "    cmx_data = confusion_matrix(y_true, y_pred, labels=labels)\n",
        "    \n",
        "    df_cmx = pd.DataFrame(cmx_data, index=labels, columns=labels)\n",
        " \n",
        "    fig, ax = plt.subplots(figsize=(7, 6))\n",
        "    sns.heatmap(df_cmx, annot=True, fmt='g' ,square=False)\n",
        "    ax.set_ylim(len(set(y_true)), 0)\n",
        "    plt.show()\n",
        "    \n",
        "    if report:\n",
        "        print('Classification Report')\n",
        "        print(classification_report(y_test, y_pred))\n",
        "\n",
        "Y_pred = model.predict(X_test)\n",
        "y_pred = np.argmax(Y_pred, axis=1)\n",
        "\n",
        "print_confusion_matrix(y_test, y_pred)"
      ]
    },
    {
      "cell_type": "markdown",
      "metadata": {
        "id": "FNP6aqzc9hE5"
      },
      "source": [
        "# Convert to model for Tensorflow-Lite"
      ]
    },
    {
      "cell_type": "code",
      "execution_count": 33,
      "metadata": {
        "id": "ODjnYyld9hE6"
      },
      "outputs": [
        {
          "name": "stderr",
          "output_type": "stream",
          "text": [
            "d:\\Code\\ProjectsPython\\hand-gesture-control-mediapipe-artnet\\venv\\lib\\site-packages\\keras\\src\\engine\\training.py:3103: UserWarning: You are saving your model as an HDF5 file via `model.save()`. This file format is considered legacy. We recommend using instead the native Keras format, e.g. `model.save('my_model.keras')`.\n",
            "  saving_api.save_model(\n"
          ]
        }
      ],
      "source": [
        "# Save as a model dedicated to inference\n",
        "model.save(model_save_path, include_optimizer=False)"
      ]
    },
    {
      "cell_type": "code",
      "execution_count": 34,
      "metadata": {
        "colab": {
          "base_uri": "https://localhost:8080/"
        },
        "id": "zRfuK8Y59hE6",
        "outputId": "a4ca585c-b5d5-4244-8291-8674063209bb"
      },
      "outputs": [
        {
          "name": "stdout",
          "output_type": "stream",
          "text": [
            "INFO:tensorflow:Assets written to: C:\\Users\\ondre\\AppData\\Local\\Temp\\tmp0ut246hy\\assets\n"
          ]
        },
        {
          "name": "stderr",
          "output_type": "stream",
          "text": [
            "INFO:tensorflow:Assets written to: C:\\Users\\ondre\\AppData\\Local\\Temp\\tmp0ut246hy\\assets\n"
          ]
        },
        {
          "data": {
            "text/plain": [
              "6660"
            ]
          },
          "execution_count": 34,
          "metadata": {},
          "output_type": "execute_result"
        }
      ],
      "source": [
        "# Transform model (quantization)\n",
        "\n",
        "converter = tf.lite.TFLiteConverter.from_keras_model(model)\n",
        "converter.optimizations = [tf.lite.Optimize.DEFAULT]\n",
        "tflite_quantized_model = converter.convert()\n",
        "\n",
        "open(tflite_save_path, 'wb').write(tflite_quantized_model)"
      ]
    },
    {
      "cell_type": "markdown",
      "metadata": {
        "id": "CHBPBXdx9hE6"
      },
      "source": [
        "# Inference test"
      ]
    },
    {
      "cell_type": "code",
      "execution_count": 35,
      "metadata": {
        "id": "mGAzLocO9hE7"
      },
      "outputs": [],
      "source": [
        "interpreter = tf.lite.Interpreter(model_path=tflite_save_path)\n",
        "interpreter.allocate_tensors()"
      ]
    },
    {
      "cell_type": "code",
      "execution_count": 36,
      "metadata": {
        "id": "oQuDK8YS9hE7"
      },
      "outputs": [],
      "source": [
        "# Get I / O tensor\n",
        "input_details = interpreter.get_input_details()\n",
        "output_details = interpreter.get_output_details()"
      ]
    },
    {
      "cell_type": "code",
      "execution_count": 37,
      "metadata": {
        "id": "2_ixAf_l9hE7"
      },
      "outputs": [],
      "source": [
        "interpreter.set_tensor(input_details[0]['index'], np.array([X_test[0]]))"
      ]
    },
    {
      "cell_type": "code",
      "execution_count": 38,
      "metadata": {
        "colab": {
          "base_uri": "https://localhost:8080/"
        },
        "id": "s4FoAnuc9hE7",
        "outputId": "91f18257-8d8b-4ef3-c558-e9b5f94fabbf",
        "scrolled": true
      },
      "outputs": [
        {
          "name": "stdout",
          "output_type": "stream",
          "text": [
            "CPU times: total: 0 ns\n",
            "Wall time: 500 µs\n"
          ]
        }
      ],
      "source": [
        "%%time\n",
        "# Inference implementation\n",
        "interpreter.invoke()\n",
        "tflite_results = interpreter.get_tensor(output_details[0]['index'])"
      ]
    },
    {
      "cell_type": "code",
      "execution_count": 39,
      "metadata": {
        "colab": {
          "base_uri": "https://localhost:8080/"
        },
        "id": "vONjp19J9hE8",
        "outputId": "77205e24-fd00-42c4-f7b6-e06e527c2cba"
      },
      "outputs": [
        {
          "name": "stdout",
          "output_type": "stream",
          "text": [
            "[0.0641131  0.6795493  0.19517402 0.02234813 0.03405751 0.00475784]\n",
            "1\n"
          ]
        }
      ],
      "source": [
        "print(np.squeeze(tflite_results))\n",
        "print(np.argmax(np.squeeze(tflite_results)))"
      ]
    }
  ],
  "metadata": {
    "accelerator": "GPU",
    "colab": {
      "collapsed_sections": [],
      "name": "keypoint_classification_EN.ipynb",
      "provenance": [],
      "toc_visible": true
    },
    "kernelspec": {
      "display_name": "Python 3",
      "language": "python",
      "name": "python3"
    },
    "language_info": {
      "codemirror_mode": {
        "name": "ipython",
        "version": 3
      },
      "file_extension": ".py",
      "mimetype": "text/x-python",
      "name": "python",
      "nbconvert_exporter": "python",
      "pygments_lexer": "ipython3",
      "version": "3.10.11"
    }
  },
  "nbformat": 4,
  "nbformat_minor": 0
}
